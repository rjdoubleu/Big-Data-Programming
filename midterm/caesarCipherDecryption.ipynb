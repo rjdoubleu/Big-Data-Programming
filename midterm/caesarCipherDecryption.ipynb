{
  "metadata" : {
    "config" : {
      "dependencies" : {
        
      },
      "exclusions" : [
      ],
      "repositories" : [
      ],
      "sparkConfig" : {
        "spark.master" : "local[*]"
      }
    }
  },
  "nbformat" : 4,
  "nbformat_minor" : 0,
  "cells" : [
    {
      "cell_type" : "markdown",
      "execution_count" : 0,
      "metadata" : {
        "language" : "text"
      },
      "language" : "text",
      "source" : [
        "# Caesar Cipher Decryption\n",
        "\n",
        "\n",
        "The following is an algorithm which utilizes Spark to solve a Caesar Cipher.\n",
        "\n",
        "\n"
      ],
      "outputs" : [
      ]
    },
    {
      "cell_type" : "code",
      "execution_count" : 1,
      "metadata" : {
        "cell.metadata.exec_info" : {
          "startTs" : 1583893703565,
          "endTs" : 1583893704602
        },
        "language" : "scala"
      },
      "language" : "scala",
      "source" : [
        "import java.io.File\n",
        "import spark.{sparkContext => sc}\n",
        "import scala.util.control.Breaks._"
      ],
      "outputs" : [
      ]
    },
    {
      "cell_type" : "code",
      "execution_count" : 2,
      "metadata" : {
        "cell.metadata.exec_info" : {
          "startTs" : 1583893708530,
          "endTs" : 1583893709604
        },
        "language" : "scala"
      },
      "language" : "scala",
      "source" : [
        "def getListOfFiles(dir: String):List[File] = {\n",
        "    val d = new File(dir)\n",
        "    if (d.exists && d.isDirectory) {\n",
        "        d.listFiles.filter(_.isFile).toList\n",
        "    } else {\n",
        "        List[File]()\n",
        "    }\n",
        "}"
      ],
      "outputs" : [
      ]
    },
    {
      "cell_type" : "markdown",
      "execution_count" : 3,
      "metadata" : {
        "language" : "text"
      },
      "language" : "text",
      "source" : [
        "# Polynote Multilingual Support\n",
        "\n",
        "Using Polynote, I can quickly create Python classes which I can call in my Scala cell(s). This comes in very handy for using Python specific packages and for quickly writing easy to read code when performance is negligible.\n",
        "\n"
      ],
      "outputs" : [
      ]
    },
    {
      "cell_type" : "code",
      "execution_count" : 4,
      "metadata" : {
        "cell.metadata.exec_info" : {
          "startTs" : 1583893712157,
          "endTs" : 1583893716648
        },
        "language" : "python"
      },
      "language" : "python",
      "source" : [
        "from scipy.stats import norm\n",
        "from string import ascii_lowercase\n",
        "from langdetect import detect_langs\n",
        "\n",
        "class letterProcessing:\n",
        "    def alpha2num(self, alpha:str)->int:\n",
        "        \"\"\"\n",
        "        Returns the integer index of the letter in the alphabet\n",
        "        \n",
        "        Inputs\n",
        "        -------\n",
        "        alpha: string     \n",
        "            A lowercase letter\n",
        "        \"\"\"\n",
        "       \n",
        "        try:\n",
        "            num = ascii_lowercase.index(alpha)\n",
        "        except ValueError:\n",
        "            print('Index not found')\n",
        "            print('Please use a valid lowercase letter')\n",
        "            num = None\n",
        "        \n",
        "        return num\n",
        "\n",
        "    def num2alpha(self, num:int)->str:\n",
        "        \"\"\"\n",
        "        Returns the letter in the alphabet corresponding to the index\n",
        "        \n",
        "        Inputs\n",
        "        -------\n",
        "        num: integer    \n",
        "            The index of a lowercase letter\n",
        "        \"\"\"\n",
        "       \n",
        "        try:\n",
        "            alpha = ascii_lowercase[num]\n",
        "        except IndexError:\n",
        "            print('Index not found')\n",
        "            print('Please use a valid index')\n",
        "            alpha = None\n",
        "        \n",
        "        return alpha\n",
        "\n",
        "    def sampleSize(self, population_size, margin_error=.05, confidence_level=.99, sigma=0.5):\n",
        "        \"\"\"\n",
        "        Calculate the minimal sample size to use to achieve a certain\n",
        "        margin of error and confidence level for a sample estimate\n",
        "        of the population mean.\n",
        "\n",
        "        Inputs\n",
        "        -------\n",
        "        population_size: integer\n",
        "            Total size of the population that the sample is to be drawn from.\n",
        "        margin_error: number\n",
        "            Maximum expected difference between the true population parameter,\n",
        "            such as the mean, and the sample estimate.\n",
        "        confidence_level: number in the interval (0, 1)\n",
        "            If we were to draw a large number of equal-size samples\n",
        "            from the population, the true population parameter\n",
        "            should lie within this percentage\n",
        "            of the intervals (sample_parameter - e, sample_parameter + e)\n",
        "            where e is the margin_error.\n",
        "        sigma: number\n",
        "            The standard deviation of the population.  For the case\n",
        "            of estimating a parameter in the interval [0, 1], sigma=1/2\n",
        "            should be sufficient.\n",
        "        \"\"\"\n",
        "        \n",
        "        alpha = 1 - (confidence_level)\n",
        "        \n",
        "        # dictionary of confidence levels and corresponding z-scores\n",
        "        # computed via norm.ppf(1 - (alpha/2)), where norm is\n",
        "        # a normal distribution object in scipy.stats.\n",
        "        # Here, ppf is the percentile point function.\n",
        "        \n",
        "        zdict = {\n",
        "            .90: 1.645,\n",
        "            .91: 1.695,\n",
        "            .99: 2.576,\n",
        "            .97: 2.17,\n",
        "            .94: 1.881,\n",
        "            .93: 1.812,\n",
        "            .95: 1.96,\n",
        "            .98: 2.326,\n",
        "            .96: 2.054,\n",
        "            .92: 1.751\n",
        "        }\n",
        "\n",
        "        if confidence_level in zdict:\n",
        "            z = zdict[confidence_level]\n",
        "        else:\n",
        "            z = norm.ppf(1 - (alpha/2))\n",
        "        \n",
        "        N = population_size\n",
        "        M = margin_error\n",
        "        numerator = z**2 * sigma**2 * (N / (N-1))\n",
        "        denom = M**2 + ((z**2 * sigma**2)/(N-1))\n",
        "\n",
        "        return int(numerator//denom)\n",
        "\n",
        "    def langDetect(self, content:str)->float:\n",
        "        \"\"\"\n",
        "        Returns probaility if the word is english, returns the negative \n",
        "        probaility of most likely language otherwise\n",
        "\n",
        "        Inputs\n",
        "        -------\n",
        "        content: string \n",
        "            The text which you want to classify the language of\n",
        "        \"\"\"\n",
        "\n",
        "        langs = detect_langs(content)\n",
        "        \n",
        "        if  langs[0] == 'en':\n",
        "            return lang.prob > 0.9\n",
        "        else:\n",
        "            return False\n",
        "\n",
        "pyInst = letterProcessing()"
      ],
      "outputs" : [
      ]
    },
    {
      "cell_type" : "code",
      "execution_count" : 5,
      "metadata" : {
        "cell.metadata.exec_info" : {
          "startTs" : 1583893719302,
          "endTs" : 1583893719544
        },
        "language" : "python"
      },
      "language" : "python",
      "source" : [
        "import os\n",
        "os.getcwd()"
      ],
      "outputs" : [
        {
          "execution_count" : 5,
          "data" : {
            "text/plain" : [
              "/home/waldenr1_gmail_com/polynote"
            ]
          },
          "metadata" : {
            "name" : "Out",
            "type" : "String"
          },
          "output_type" : "execute_result"
        }
      ]
    },
    {
      "cell_type" : "code",
      "execution_count" : 6,
      "metadata" : {
        "cell.metadata.exec_info" : {
          "startTs" : 1583893765484,
          "endTs" : 1583893766190
        },
        "language" : "scala"
      },
      "language" : "scala",
      "source" : [
        "// Obtain all files from data folder\n",
        "val files = getListOfFiles(\"notebooks/midterm/data\")\n",
        "var succesful = 0\n",
        "var failed = 0\n",
        "\n",
        "// Iterate through each file\n",
        "for (file <- files){\n",
        "\n",
        "    val filename = file.toString\n",
        "    println(\"Processing \" + filename + \" ...\")\n",
        "\n",
        "    // Extract lines from the encrypted document\n",
        "    val lines = sc.textFile(filename)\n",
        "\n",
        "    // Extract words from the encrypted document\n",
        "    val words = lines\n",
        "                .flatMap(_.split(\" \"))\n",
        "                .filter(_ != \"\")\n",
        "\n",
        "    println(\"Word count: \" + words.count)\n",
        "\n",
        "    // Cleans words of any non alphabetical characters\n",
        "    val cleanWords = words.map(_.replaceAll(\"[^a-zA-Z]\",\"\"))\n",
        "    println(\"Clean word count: \" + cleanWords.count);\n",
        "\n",
        "    // Extract characters from the lines\n",
        "    val chars = lines\n",
        "                .flatMap(_.split(\"\"))\n",
        "                .filter(_ != \"\")\n",
        "                .filter(_ != \" \")\n",
        "\n",
        "    println(\"Character count: \" + chars.count)\n",
        "\n",
        "    // Filters out non alphabetical characters\n",
        "    val alphaChars = chars\n",
        "                    .map(_.replaceAll(\"[^a-zA-Z]\",\"\"))\n",
        "                    .filter(_ != \"\")\n",
        "\n",
        "    // Counts the number of total alphabetical characteres\n",
        "    val total:Int = alphaChars.count.toInt\n",
        "    println(\"Alphabetical character count: \" + total)\n",
        "\n",
        "    // Use python class to calculate ideal sample size\n",
        "    val sample:Int = Integer.parseInt(pyInst.sampleSize(total).toString)\n",
        "    println(\"Ideal sample size: \" + sample)\n",
        "\n",
        "    // Crates an integer value (1) for each alphabetical characters\n",
        "    val lowChars = alphaChars.map(ch => (ch.toLowerCase, 1))\n",
        "\n",
        "    val e_idx:Int = 4 // The index of 'e', the most common letter, in the alphabet\n",
        "    val num_let:Int = 26 // The number of letters in the alphabet\n",
        "\n",
        "    // Takes a statistically appropriate sample of the Words to test\n",
        "    val bagOfWords = cleanWords.sample(false, sample / cleanWords.count())\n",
        "\n",
        "    // \n",
        "    var charFreq = lowChars.reduceByKey(_ + _) // get unique letter frequencies by reducing key\n",
        "    var isEnglish:Boolean = false // used for determining succesful decryption\n",
        "    var iter:Int = 0 // used for counting number of decryption attempts\n",
        "    var decWords = null // temporary place holder\n",
        "\n",
        "    // Returns letter with greatest frequency\n",
        "    var candidate = charFreq.max()(new Ordering[Tuple2[String, Int]]() {\n",
        "        override def compare(x: (String, Int), y: (String, Int)): Int = Ordering[Int].compare(x._2, y._2)\n",
        "        })\n",
        "\n",
        "    // Calculates key using Python function\n",
        "    var key:Int = Integer.parseInt(pyInst.alpha2num(candidate._1).toString) - e_idx\n",
        "    \n",
        "    breakable{\n",
        "        while (isEnglish == false && iter < num_let){\n",
        "            println(\"Candidate e: \" + candidate._1)\n",
        "            println(\"Candidate's frequency: \" + candidate._2)\n",
        "            \n",
        "            // Correct negative keys \n",
        "            if (key<0){key += num_let}\n",
        "            println(\"Most likely key: \" + key)\n",
        "\n",
        "            // Only shift the words if the key value is not zero\n",
        "            // Need to debug this!!!\n",
        "            if (key != 0) {\n",
        "                decWords = bagOfWords\n",
        "                               .map(word => (for (c <- word) yield pyInst\n",
        "                               .num2alpha(\n",
        "                                   (Integer.parseInt(pyInst.alpha2num(c).toString) + e_idx) % 26)\n",
        "                               .toString))\n",
        "                               .collect()\n",
        "                               .toList\n",
        "            } else {\n",
        "                decWords = bagOfWords.collect().toList\n",
        "            }\n",
        "\n",
        "            isEnglish = (pyInst.langDetect(decWords).toString).toBoolean\n",
        "            \n",
        "            if (isEnglish){\n",
        "                // decrypt all data and write to file\n",
        "                // Need to implement this!!!\n",
        "                break\n",
        "            }\n",
        "            \n",
        "            // Adjust relevant variables for next decryption attempt\n",
        "            iter += 1\n",
        "            charFreq = charFreq.filter(_ != candidate)\n",
        "            candidate = charFreq.max()\n",
        "            key = Integer.parseInt(pyInst.alpha2num(candidate._1).toString) - e_idx\n",
        "        }\n",
        "    }\n",
        "\n",
        "    // handle final results for the current file\n",
        "    if (isEnglish){\n",
        "        println(filename + \" decryption complete in \" + iter + \" iterations.\")\n",
        "        println(\"Caesar Cipher Key: \" + key)\n",
        "        succesful += 1\n",
        "    }else{\n",
        "        println(filename + \" decryption failed.\")\n",
        "        failed += 1\n",
        "    }\n",
        "}\n",
        "\n",
        "println(\"All files completed\")\n",
        "println(\"Succesfully decrypted \" + succesful)\n",
        "println(\"Failed to decrypt \" + failed)"
      ],
      "outputs" : [
        {
          "execution_count" : 6,
          "data" : {
            "application/json" : [
              {
                "pos" : {
                  "sourceId" : "Cell6",
                  "start" : 2995,
                  "end" : 3344,
                  "point" : 3338
                },
                "msg" : "type mismatch;\n found   : List[scala.collection.immutable.IndexedSeq[String]]\n required: Null",
                "severity" : 2
              },
              {
                "pos" : {
                  "sourceId" : "Cell6",
                  "start" : 3393,
                  "end" : 3420,
                  "point" : 3414
                },
                "msg" : "type mismatch;\n found   : List[String]\n required: Null",
                "severity" : 2
              }
            ],
            "text/plain" : [
              "Error: type mismatch;\n found   : List[scala.collection.immutable.IndexedSeq[String]]\n required: Null (2995)",
              "Error: type mismatch;\n found   : List[String]\n required: Null (3393)"
            ]
          },
          "metadata" : {
            "rel" : "compiler_errors"
          },
          "output_type" : "execute_result"
        }
      ]
    },
    {
      "cell_type" : "code",
      "execution_count" : 7,
      "metadata" : {
        "language" : "scala"
      },
      "language" : "scala",
      "source" : [
      ],
      "outputs" : [
      ]
    }
  ]
}